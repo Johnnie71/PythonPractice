{
 "cells": [
  {
   "cell_type": "code",
   "execution_count": 1,
   "metadata": {},
   "outputs": [],
   "source": [
    "from pytube import YouTube\n",
    "from moviepy.editor import *\n",
    "import os"
   ]
  },
  {
   "cell_type": "code",
   "execution_count": null,
   "metadata": {},
   "outputs": [],
   "source": [
    "video_directory = \"videos/\"\n",
    "audio_directory = \"audio/\""
   ]
  },
  {
   "cell_type": "code",
   "execution_count": null,
   "metadata": {},
   "outputs": [],
   "source": [
    "def find_file(directoryPath, string):\n",
    "    for fname in os.listdir(directoryPath):\n",
    "        if fname.__contains__(str(string)):\n",
    "            return fname\n",
    "        else:\n",
    "            continue\n",
    "\n",
    "def extract_audio_from_video(video_file: str):\n",
    "    wav_file_name = video_file.replace('.webm', '.wav').replace(\".mp4\", \".wav\")\n",
    "    video_clip = VideoFileClip(os.path.join(video_directory, video_file))\n",
    "    audio_clip = video_clip.audio\n",
    "\n",
    "    if audio_clip is not None:\n",
    "        audio_clip.write_audiofile(os.path.join(audio_directory, wav_file_name))\n",
    "        video_clip.close()\n",
    "        audio_clip.close()\n",
    "    else:\n",
    "        video_clip.close()\n",
    "\n",
    "def Download(link):\n",
    "    youtubeObject = YouTube(link)\n",
    "    youtubeObject = youtubeObject.streams.get_highest_resolution()\n",
    "    try:\n",
    "        youtubeObject.download(video_directory)\n",
    "    except:\n",
    "        print(\"An error has occurred\")\n",
    "    print(\"Download is completed successfully\")\n",
    "\n",
    "Download(\"https://www.youtube.com/watch?v=BHsbkar_LL0\")\n",
    "\n",
    "for file in os.listdir(video_directory):\n",
    "    extract_audio_from_video(file)"
   ]
  }
 ],
 "metadata": {
  "kernelspec": {
   "display_name": "scriptsenv",
   "language": "python",
   "name": "python3"
  },
  "language_info": {
   "codemirror_mode": {
    "name": "ipython",
    "version": 3
   },
   "file_extension": ".py",
   "mimetype": "text/x-python",
   "name": "python",
   "nbconvert_exporter": "python",
   "pygments_lexer": "ipython3",
   "version": "3.10.4"
  },
  "orig_nbformat": 4,
  "vscode": {
   "interpreter": {
    "hash": "7bcf98f1e7b9f088da48372f5bd25ba4b94f94720251dd4c6d730fd8818cc1b2"
   }
  }
 },
 "nbformat": 4,
 "nbformat_minor": 2
}
