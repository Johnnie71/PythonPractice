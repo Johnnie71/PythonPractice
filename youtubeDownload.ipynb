{
 "cells": [
  {
   "cell_type": "code",
   "execution_count": null,
   "metadata": {},
   "outputs": [],
   "source": [
    "from pytube import YouTube\n",
    "from moviepy.editor import *"
   ]
  },
  {
   "cell_type": "code",
   "execution_count": null,
   "metadata": {},
   "outputs": [],
   "source": [
    "video_directory = \"videos/\"\n",
    "audio_directory = \"audio/\""
   ]
  },
  {
   "cell_type": "code",
   "execution_count": 25,
   "metadata": {},
   "outputs": [
    {
     "name": "stdout",
     "output_type": "stream",
     "text": [
      "Download is completed successfully\n",
      "MoviePy - Writing audio in audio/Ciara - Backseat Love (iTunes Bonus Track).wav\n"
     ]
    },
    {
     "name": "stderr",
     "output_type": "stream",
     "text": [
      "                                                                      "
     ]
    },
    {
     "name": "stdout",
     "output_type": "stream",
     "text": [
      "MoviePy - Done.\n"
     ]
    },
    {
     "name": "stderr",
     "output_type": "stream",
     "text": [
      "\r"
     ]
    }
   ],
   "source": [
    "def find_file(directoryPath, string):\n",
    "    for fname in os.listdir(directoryPath):\n",
    "        if fname.__contains__(str(string)):\n",
    "            return fname\n",
    "        else:\n",
    "            continue\n",
    "\n",
    "def extract_audio_from_video(video_file: str):\n",
    "    wav_file_name = video_file.replace('.webm', '.wav').replace(\".mp4\", \".wav\")\n",
    "    video_clip = VideoFileClip(os.path.join(video_directory, video_file))\n",
    "    audio_clip = video_clip.audio\n",
    "\n",
    "    if audio_clip is not None:\n",
    "        audio_clip.write_audiofile(os.path.join(audio_directory, wav_file_name))\n",
    "        video_clip.close()\n",
    "        audio_clip.close()\n",
    "    else:\n",
    "        video_clip.close()\n",
    "\n",
    "def Download(link):\n",
    "    youtubeObject = YouTube(link)\n",
    "    youtubeObject = youtubeObject.streams.get_highest_resolution()\n",
    "    try:\n",
    "        youtubeObject.download(video_directory)\n",
    "    except:\n",
    "        print(\"An error has occurred\")\n",
    "    print(\"Download is completed successfully\")\n",
    "\n",
    "Download(\"https://www.youtube.com/watch?v=BHsbkar_LL0\")\n",
    "\n",
    "for file in os.listdir(video_directory):\n",
    "    extract_audio_from_video(file)"
   ]
  },
  {
   "cell_type": "code",
   "execution_count": null,
   "metadata": {},
   "outputs": [],
   "source": []
  }
 ],
 "metadata": {
  "kernelspec": {
   "display_name": "scriptsenv",
   "language": "python",
   "name": "python3"
  },
  "language_info": {
   "codemirror_mode": {
    "name": "ipython",
    "version": 3
   },
   "file_extension": ".py",
   "mimetype": "text/x-python",
   "name": "python",
   "nbconvert_exporter": "python",
   "pygments_lexer": "ipython3",
   "version": "3.8.13"
  },
  "orig_nbformat": 4,
  "vscode": {
   "interpreter": {
    "hash": "581385b78778aaa2f3e5c1a58646db10b3afd142eacc0eeca7a75fa6826a4670"
   }
  }
 },
 "nbformat": 4,
 "nbformat_minor": 2
}
