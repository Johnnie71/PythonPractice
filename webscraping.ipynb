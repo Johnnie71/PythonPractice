{
 "cells": [
  {
   "cell_type": "code",
   "execution_count": null,
   "metadata": {},
   "outputs": [],
   "source": [
    "from selenium.webdriver.common.keys import Keys\n",
    "from selenium.webdriver.common.by import By\n",
    "from selenium import webdriver\n",
    "from tqdm.autonotebook import tqdm\n",
    "import unicodedata\n",
    "import requests\n",
    "import os\n",
    "import re"
   ]
  },
  {
   "cell_type": "code",
   "execution_count": null,
   "metadata": {},
   "outputs": [],
   "source": [
    "# Vars and functions\n",
    "video_directory = 'videos/'\n",
    "\n",
    "def download_file(url, outfilePath):\n",
    "    with requests.get(url, stream=True, verify=False) as r:\n",
    "        r.raise_for_status()\n",
    "        with open(outfilePath, \"wb\") as f:\n",
    "            for chunk in r.iter_content(chunk_size=8192):\n",
    "                f.write(chunk)\n",
    "    return True\n",
    "\n",
    "videoFilePath = os.path.join(video_directory, \"\")\n",
    "print(videoFilePath)\n",
    "download_file(\"\", videoFilePath)"
   ]
  }
 ],
 "metadata": {
  "kernelspec": {
   "display_name": "scriptsenv",
   "language": "python",
   "name": "python3"
  },
  "language_info": {
   "codemirror_mode": {
    "name": "ipython",
    "version": 3
   },
   "file_extension": ".py",
   "mimetype": "text/x-python",
   "name": "python",
   "nbconvert_exporter": "python",
   "pygments_lexer": "ipython3",
   "version": "3.10.4"
  },
  "orig_nbformat": 4,
  "vscode": {
   "interpreter": {
    "hash": "7bcf98f1e7b9f088da48372f5bd25ba4b94f94720251dd4c6d730fd8818cc1b2"
   }
  }
 },
 "nbformat": 4,
 "nbformat_minor": 2
}
